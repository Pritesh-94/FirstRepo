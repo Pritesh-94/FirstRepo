{
  "metadata": {
    "kernelspec": {
      "name": "python",
      "display_name": "Python (Pyodide)",
      "language": "python"
    },
    "language_info": {
      "codemirror_mode": {
        "name": "python",
        "version": 3
      },
      "file_extension": ".py",
      "mimetype": "text/x-python",
      "name": "python",
      "nbconvert_exporter": "python",
      "pygments_lexer": "ipython3",
      "version": "3.8"
    }
  },
  "nbformat_minor": 5,
  "nbformat": 4,
  "cells": [
    {
      "id": "6cb95bd1-8261-4f7b-9e14-b0fe0435dd37",
      "cell_type": "markdown",
      "source": "# Data Science Tools and Ecosystem",
      "metadata": {}
    },
    {
      "id": "5536acac-a684-4949-81ac-ff19312b0802",
      "cell_type": "markdown",
      "source": "In this notebook, Data Science Tools and Ecosystem are summarized.",
      "metadata": {}
    },
    {
      "id": "230ddd2e-bb1f-4214-b07d-35a6ba4f68bc",
      "cell_type": "markdown",
      "source": "**Objectives:**\n* List popular languages for Data Science\n* some commomnly used libraries\n* examples of arithmetic expressions\n* formatting markdown cells",
      "metadata": {}
    },
    {
      "id": "f5172f1d-8c42-488b-8b85-f01cdbbed721",
      "cell_type": "markdown",
      "source": "Some of the popular languages that Data Scientists use are:\n1. R\n2. Python\n3. Scala",
      "metadata": {}
    },
    {
      "id": "3cf6c7f6-0cf9-4fc8-bdce-e8568602acc8",
      "cell_type": "markdown",
      "source": "Some of the commonly used libraries used by Data Scientists include:\n1. ggplot2\n2. plotly\n3. pandas",
      "metadata": {}
    },
    {
      "id": "4b45038d-9d45-4797-8ada-f2a5b73270f4",
      "cell_type": "markdown",
      "source": "|Data Science Tools|\n|------------------|\n|R studio|\n|Jupyter|\n|Spyder|",
      "metadata": {}
    },
    {
      "id": "33d6768f-f111-4d3c-9137-467a0cf9d4d7",
      "cell_type": "markdown",
      "source": "### Below are a few examples of evaluating arithmetic expressions in Python",
      "metadata": {}
    },
    {
      "id": "1a08b7b2-dfde-4221-8d99-779a6378d173",
      "cell_type": "code",
      "source": "# This a simple arithmetic expression to mutiply then add integers\nc=(3*4)+5\nprint(c)",
      "metadata": {
        "trusted": true
      },
      "outputs": [
        {
          "name": "stdout",
          "output_type": "stream",
          "text": "17\n"
        }
      ],
      "execution_count": 7
    },
    {
      "id": "e39771a3-a482-4ce4-8d46-758b904b5c73",
      "cell_type": "code",
      "source": "# This will convert 200 minutes to hours by diving by 60\nhours= 200/60\nprint(hours)",
      "metadata": {
        "trusted": true
      },
      "outputs": [
        {
          "name": "stdout",
          "output_type": "stream",
          "text": "3.3333333333333335\n"
        }
      ],
      "execution_count": 8
    },
    {
      "id": "96f25621-f6b1-4338-a737-849ffaf0b8a1",
      "cell_type": "markdown",
      "source": "## Author\nPritesh Parikh",
      "metadata": {}
    },
    {
      "id": "99222c88-a2d2-4691-bf85-0f0f1a6d5484",
      "cell_type": "code",
      "source": "",
      "metadata": {
        "trusted": true
      },
      "outputs": [],
      "execution_count": null
    },
    {
      "id": "c0e4bc84-a23e-49cc-89a5-adf76eea9338",
      "cell_type": "code",
      "source": "",
      "metadata": {
        "trusted": true
      },
      "outputs": [],
      "execution_count": null
    }
  ]
}